{
 "cells": [
  {
   "cell_type": "code",
   "execution_count": 2,
   "id": "b4e48796",
   "metadata": {},
   "outputs": [],
   "source": [
    "import fitz  # PyMuPDF\n",
    "import re\n",
    "import pandas as pd\n",
    "\n",
    "# 1. Extract Text from PDF\n",
    "def extract_text_from_pdf(pdf_path, start_page=98, end_page=928):\n",
    "    doc = fitz.open(pdf_path)\n",
    "    text = \"\"\n",
    "    for page_num in range(start_page, end_page):\n",
    "        text += doc.load_page(page_num).get_text()\n",
    "    doc.close()\n",
    "    return text\n",
    "\n",
    "# 2. Split Entries\n",
    "def split_entries(text):\n",
    "    return [e.strip().replace('\\n', ' ') \n",
    "            for e in re.split(r\"\\n(?=\\w+\\s+\\([^)]+\\))\", text.strip()) \n",
    "            if e.strip()]\n",
    "\n",
    "# 3. Parse Each Entry — only word & meaning\n",
    "def parse_lexicon_entry(entry_text):\n",
    "    entry_text = entry_text.strip().replace('\\n', ' ')\n",
    "    word = meaning = \"\"\n",
    "\n",
    "    # Word (English) and pronunciation\n",
    "    match_wp = re.match(r\"^(\\w+)\\s+\\([^)]+\\)\", entry_text)\n",
    "    if match_wp:\n",
    "        word = match_wp.group(1)\n",
    "\n",
    "    # Meaning — capture everything until note/example or end\n",
    "    pos_meaning_match = re.search(\n",
    "        r\"\\)\\s*[a-z.]+\\s+(.*?)(?=\\s*Short form\\.|\\s*E\\.g\\.|\\s*Eg\\.|$)\", \n",
    "        entry_text, \n",
    "        re.IGNORECASE\n",
    "    )\n",
    "    if pos_meaning_match:\n",
    "        meaning = pos_meaning_match.group(1).strip()\n",
    "\n",
    "    return {\n",
    "        \"word\": word,\n",
    "        \"meaning\": meaning\n",
    "    }\n",
    "\n",
    "# 4. Process Entire PDF\n",
    "def process_pdf_to_dataframe(pdf_path):\n",
    "    raw_text = extract_text_from_pdf(pdf_path, start_page=98, end_page=929)\n",
    "    entries = split_entries(raw_text)\n",
    "    parsed_entries = [parse_lexicon_entry(entry) for entry in entries]\n",
    "    return pd.DataFrame(parsed_entries)\n",
    "\n",
    "# Example Usage\n",
    "if __name__ == \"__main__\":\n",
    "    pdf_path = \"document.pdf\"\n",
    "    df = process_pdf_to_dataframe(pdf_path)\n"
   ]
  },
  {
   "cell_type": "code",
   "execution_count": 4,
   "id": "b63f6e61",
   "metadata": {},
   "outputs": [
    {
     "data": {
      "application/vnd.microsoft.datawrangler.viewer.v0+json": {
       "columns": [
        {
         "name": "index",
         "rawType": "int64",
         "type": "integer"
        },
        {
         "name": "word",
         "rawType": "object",
         "type": "string"
        },
        {
         "name": "meaning",
         "rawType": "object",
         "type": "string"
        }
       ],
       "ref": "3ff6035c-237f-498e-a343-829901945f90",
       "rows": [
        [
         "0",
         "",
         ""
        ],
        [
         "1",
         "à",
         "we. ("
        ],
        [
         "2",
         "á",
         "a noun-forming prefix attached to a phrasal verb to indicate title or speciality."
        ],
        [
         "3",
         "a",
         "we ; us. (Indicating advice, urgency or appeal)."
        ],
        [
         "4",
         "aa",
         "Short form for ‘awa’ Or : ‘agba’ : (Compliment ; greeting). Hello. (See awa ; agba). (Syn. náagò)."
        ],
        [
         "5",
         "áagò",
         "(Colloq.) Short form for náagò (sorry ; thank you)."
        ],
        [
         "6",
         "Àágènyi",
         "male name. áá ī ( ‘á: ̩ī) adv. (Colloq.) Short form for the demonstrative adverb, ‘ábá-ī’ (like this). See ábá-ī. áá-ì (‘á: ̩i) (Interj.) a high-pitched cry expressing anguish ; impulsive cry in reaction to a sharp, sudden pain."
        ],
        [
         "7",
         "àáká",
         ""
        ],
        [
         "8",
         "àákpà",
         "(Abbrev.) maize ; corn. (Derived from the word, ‘àkákpà,’ which is no longer in current use). (Sci. Zea mays L.).¹ Prefix or root for different forms or descriptions of maize, viz : (a) cn. phr. àákpà èmímí : fresh ~ (b) cn. phr. àákpà ẹ̀dẹ́ : fried ~. (See òmù-àpùlà). (c) cn. phr. àákpà ẹ̀gbẹ : (i) dry corn. (ii) (Fig.) locally-brewed gin. (See íkákányí). (d) cn. phr. àákpà ẹ̀hì : boiled, fresh ~. (e) cn. phr. àákpà ẹ̀rọ : roasted ~. (f) cn. phr. àákpà òkwútúlù : semi-fresh ~. (g) cn. phr. òmù àákpà : maize flour. (h) cn. phr. ìjakpá ákpà : the long, white filaments of a growing ~ plant. (See ìjakpá). (i) cn. phr. àákpà ọmọnyà : fresh ~ roasted together with its leaves. (j) cn. phr. àákpà ejú ọ́gà : ~ cultivated at the onset of the first rains. (Syn. àákpà ọdọ́). (k) cn. phr. àákpà ọ̀lọji : ~ planted during the first month of the rainy season, to be harvested three months later. (l) cn. phr. àákpa uwò : ~ planted at the tail-end of the rainy season, to be harvested at the onset of the dry season. (m) cn. phr. àákpà kpikpa : yellow maize. (n) cn. phr. àákpà fufu : white maize. 2. Suffixed to nouns to indicate the different parts of a maize plant or its cob in the course of formation of phrases, viz : (a) cn. phr. àlúméjì ákpà : the middle part of shared, roasted ~. (b) cn. phr. èchu ákpà : rough faeces from roasted or boiled ~ taken earlier. (c) cn. phr. émí ākpà ; the leaves of the ~ plant. (d) cn phr. ẹ̀tẹ̀ àákpà : the stalk or a stand of a ~ plant. (e) cn. phr. ìfẹ́lẹ́ ákpà : spathe ; one of the top layers of the greenish, boat-shaped leaves enclosing the ~ cob. (f) cn. phr. ígá ākpà : a shoot of a ~ plant. (See ígáà). (g) cn. phr. ìyà ákpà : styles ; the long, silky threads at the tip of a growing maize cob. (h) cn. phr. ójí ákpà : the top of a roasted cob. (i) cn. phr. ólí ákpà : the bare stalk of a ~ cob. (i.e. divested of its seeds). (j) cn. phr. ọ̀kpù ákpà : the bottom part of a ~ cob. (k) adj. phr. (Expression) Àákpà átú ójí : The ~ plant is beginning to bring out its styles. (See ìyà-ákpà). (j) adv. cl. (Fig.) Éjú onẹ̀ én’ónẹ̀ dáb’ákpà ọdọ̄ : (Lit.) Missing sb. badly, like one misses the first maize of the year. (DM.) You have been so scarce; and I miss you very much."
        ],
        [
         "9",
         "Júkùn",
         "and the 10th after Àtá Ayẹ́gbà. (See Postscript: Dynastic Sovereigns of Ígálá History). (i) cn. Àámẹ́-Óhíēgāà : One of the sons of Àtá Ìtódó Ádùgà Ọma Akwùmábì who fathered the four"
        ],
        [
         "10",
         "sons",
         "established four composite clan areas in Ànyìgbá town. (j) Àámẹ́-Úlōkōò: male name. (Power name). (‘Ùlókóò’ means ‘Iroko,’ see ùlókóò)."
        ],
        [
         "11",
         "àbà",
         "1. a metal tack with sharp, pointed tips which are usually driven into the body of an idol by an adherent of African Traditional"
        ],
        [
         "12",
         "Religion",
         "invoking a specific outcome during a given worship session. (a) phr. vi. d’àbà dó : to drive the ~ into. (See ódéè). (b) phr. vi. (Idiom) f’àbà dó : (i) to seal or concretize an arrangement."
        ],
        [
         "13",
         "àba",
         "(Variant). place ; residence. (Usu. úgbo àba)."
        ],
        [
         "14",
         "Àbá",
         "male name. (a) One of the five sons of Ògwùchẹ́kwọ̀; founder of one arm of the Ankpa Royal Sub-clan.²"
        ],
        [
         "15",
         "àbaba",
         "initially ; originally ; in the beginning. (i) (Prov.) Àbaba adù k’ì má n’ùwójì : (Lit.) The weight of a head-load is hardly felt when you first put it on your head. (It takes a long while before you realize how heavy it actually is). (DM.) The burden of a responsibility is lighter when it is newly bestowed but gets increasingly heavier as time progresses."
        ],
        [
         "16",
         "àbáchà",
         "cassava ; a root crop and member of the manioc family, (rated second, after yam, by local consumers). (Sci.) Manihot spp.³(a). Types : (i) un. àbáchà-àbégwú : a wild species of ~. (ii) cn. phr. àbáchà-òkwúhíẹ̄hìẹ̀ : a stringy, reddish species of ~. (iii) cn. phr. àbáchà òjìgónó : a soft type of ~, which is either boiled or roasted like yam. (iv) cn. phr. àbáchà ódòkpè : a bitter-tasting species of ~ which is usually soaked in water to remove its toxic component before eating it. (b) cn. phr. ọ̀jẹ̀ àbáchà : See ọ̀jẹ̀. (c) cn. àbáchà Ìgbọ̀-d’agbà-wá : a species of ~ ódòkpè which usually produces fat, multiple tubers.⁴"
        ],
        [
         "17",
         "Àbachà",
         "any member of the Bassà Kómo ethnic group occupying the north-eastern fringe of the Ígálá Kingdom.⁵ (a) un. Bassà Kómo language. (b) Ógwu Àbachà : The Bassà Kómo Uprising, which took place around 1854 at the tail-end of the reign of Àtá Àámẹ́ẹ̀ Òchéje. (Prov.) Ọ̀gẹ̀lẹ̀ẹ́ d’ ōgwu Àbachà ṅ: (Lit.) There is no romance in a Bassa War. (DM.) There is no joke where a matter of great importance is being attended to."
        ],
        [
         "18",
         "àbàdà",
         "1. a type of flat, oily pancake made from bambara nut. (See íhíalíhía ; òkpúkpúlú). 2. cn. See ẹ̀mù ; ẹ̀mù-àbàdá ; ẹ̀mù-ùdúgò. (Variant). ọ̀bàdà)."
        ],
        [
         "19",
         "àbàhì",
         "1. (ATR). a ceremonial shroud or burial garment used to simulate the formal re-burial of a long-deceased person. 2. un. an irritating behaviour ; conduct intended to taunt sb."
        ],
        [
         "20",
         "àbàdá",
         "Dutch wax textile material. (Usu. úkpó ábàdá). ábá-ī (‘á ‘bá ̩jī) adv. (Demonstrative adverb derived from ‘ábú aá-ī’). like this ; this way. (Also : ábáyī)."
        ],
        [
         "21",
         "àbàjá",
         "allegation of destructive use of witchcraft levelled against sb. (a) phr. vi. k’àbàjá n’ónẹ̀ : to accuse sb of witchcraft. (See kà). Àbàjánùkpọ̀ ( ̩à ̩bà ‘dʒá ̩nù ̩kpɔ̀) cn. (Myth.) Àtínálọ’s wife in Ígálá folklore. (Also Abàjánọ̀kọ̀). (See Àtínálọ)."
        ],
        [
         "22",
         "ábáji",
         "monitor-lizard. (a) Types : (i) cn. phr. ábáji èkpulu : a tough-skinned ~. (ii) cn. phr. ábáji-ùjetí : See ábáji-èkpulu. (iii) cn. phr. ábáji-ọ̀wálà : a fast-moving ~ which has a skin like that of a puff-adder."
        ],
        [
         "23",
         "àbàjiji",
         "pretence ; simulation. (See àdàbọ́la). ábájọ-í (‘á ‘bá ̩dʒɔ ‘í) adv. now ; this moment. (a) (Fig.). nowadays ; in contemporary times. (Derived from : ábú k’à jọ-í (as we are). (Syn. ífáī)."
        ],
        [
         "24",
         "ábákagwù",
         "a cooked, pasty, sweet-tasting delicacy prepared from a combination of grated, ripe plantain and maize paste wrapped in broad leaves and boiled to cook. (Syn. ífáyàbà). (See íkpákpā).."
        ],
        [
         "25",
         "àbàkálá",
         "(Variant). See àbùkálá."
        ],
        [
         "26",
         "àbàkpà",
         "Muslim. See àkpà."
        ],
        [
         "27",
         "àbàlà",
         "See òwú ; òwú-àbàlà."
        ],
        [
         "28",
         "Ábáláká",
         "name given to a male child who was born and expected to be strong and instrumental in influencing desirable outcomes. (Usually nick-named : Ábáláká ìkpẹ́lẹ́-iji k’ì ájẹ́ w’úná dálu : The small pieces of firewood that fuel a fire). (a) un. Ódomà Abáláká : See Postscript: Notable Ígálás in Pre-colonial and Colonial Periods). ábálẹ̄ (‘á ‘bá ̩lɛ̄ ) adv. (Demonstrative adverb derived from ábú éyí lẹ̄). like that ; that way."
        ],
        [
         "29",
         "ábalukata",
         "See ọ̀fànúñwa."
        ],
        [
         "30",
         "àbànáchì",
         "See èbìnà ; èbìnà àbànáchì."
        ],
        [
         "31",
         "Ábáñā",
         "(Derog.) one with a high fore-head. (See àñá)."
        ],
        [
         "32",
         "àbàró",
         "Watermelon ; an important cash-crop also used for soup-making. (Sci.) Citrullus latanus.  (a) un. Àbàro : female name."
        ],
        [
         "33",
         "ábawò",
         "(of wood, pipe, etc.). to be hollow. (See ólí; oli abawò)."
        ],
        [
         "34",
         "àbàyì",
         "See àbàhì."
        ],
        [
         "35",
         "ábédè",
         "Roan antelope."
        ],
        [
         "36",
         "Ábejúkolo",
         "Ìfẹ̀ ; seat of Ọ̀málá LGA.⁷ 2. cn. a community on the outskirts of Ègwúmẹ́, the capital of Òkwùlà District in Dèkína LGA."
        ],
        [
         "37",
         "ábélè",
         "a genre of Igala cultural music or dance. (See éli ; égwú ; ídó-abèlè)."
        ],
        [
         "38",
         "ábetí",
         "See ọ̀tàjia ; ọ̀tàjia-abetí."
        ],
        [
         "39",
         "ábẹ",
         "pen-knife : ábẹ-àfù : razor blade. (a) (Prov.) Ọ́jọ́mūnẹ̄ álẹ́ t’abẹ-àfù lè : (Lit.) Next time is sharper than ~ (DM). (It is used as a remark when someone who benefited from the charity and goodwill of the speaker becomes ungrateful and the speaker angrily retorts: “You have taught me a lesson. When you come back in search of help again, I will not oblige you”). (b) cn. ábẹ-àgbèlí : a local, one-edged pen-knife used for barbing and shaving. (Also: ábẹ-ùlójí). ábẹ́dọ̀ (‘á ‘bέ ̩dɔ̀) cn. tortoise. (See Áñẹ́jẹ̄ ; òbúkọ ; òbúkọ-oko). (a) cn. phr. ábẹ́dọ̀-efomi : turtle. (b) cn. phr. ábẹ́dọ̀-egbílíì : a hard-shelled, desert ~. ábẹ́ẹ̀ (‘á ‘bέ ̩ὲ) un. width ; breadth. (Also : úláà). (a) adj. n’abẹ̀ : (Lit). to have sufficient width. to be wide."
        ],
        [
         "40",
         "ábẹñà",
         "forked."
        ],
        [
         "41",
         "àbi",
         "guilt ; blame. See jẹ ; j’àbi ; kpa ; kp’àbi. (a) un. Àbi : name given to a female child that was delivered hand-first at birth."
        ],
        [
         "42",
         "àbí",
         "1. womb ; the biological organ in women and female animals inside of which babies form before they are born. (Usu. àbí ọma). 2. un. fertility in a woman or any female animal ; reproductive capacity in a female person or animal."
        ],
        [
         "43",
         "ábíá",
         "dog ; a domestic pet ; a mammal related to wolves, foxes and jackals. (Sci.) Canis familiaris.⁸ 2. cn. (Derog.) an insultive term. 3. Proverbs re-lating to ábíá : (a) (Prov.) Ẹ́ñwú mà ádu gw’iñmọ́ abíá k’ì áfẹ́? : (Lit.) What is it that can be used to wash a dog’s nose to make it clean? (DM.) (It is used to express a feeling of frustration and resignation after efforts made so far to reform an incorrigible person have yielded no positive results). (b) (Allegory). Ábíá ẹ́níí òñwu lẹ́ ád’ojí ñwu k’uná, k’óñwu m’ugbo k’ọ̀gá ñ’ọ̀là lẹ́ álè wá. (Lit.) The dog says it will keep its head close to the fire-side so as to know the direction that diseases and trouble will come from). (DM.) Self-preservation is a necessary precautionary measure to take if you want to stay out of trouble. (c) (Prov.) Ábíá k’ì gb’ọwọ́ ọdẹ, òñwu mà ád’ikpakpala t’ọ́ ọ́fa. (Lit.) It is the dog that is willingly disposed to hunting that its owner ties shackles around its neck. (DM.) Used when compliance or obedience is rewarded with punishment. (d) (Expression) Ábíá chu w’ábíá jẹ k’ì n’ẹ́dẹ̀ẹ́tẹ́ẹ̀ : (Lit.) A dog defecating for another dog to eat provokes anger and resentment in the insulted party. (DM.) Used as a painful remark by someone whose integrity is being undermined by another person. (e) (Prov.) Ábíá áhímú, í m’ugbá-ọ́jẹ̀ ñwu ní ábẹ̀ẹ̀? : (Lit.) Even if a dog is mad, does it not still recognize the bowl from which it eats? (DM.) Even a crazy person knows his bounds and the implications of exceeding them. (f) (Prov.) Ábíá k’ì f’ukwùlù jẹ gb’ọ́la nyọ̀, í f’abokó lí, i chánẹ́ ēkōọ̀ : A dog that is accustomed to eating tripes would bark excitedly on sighting a man with hydrocele (a fluid sac around his scrotum), thinking that it has found its usual meal. (See ókó; ábokó). (DM.) A person obsessed with domestic misdemeanour is often tempted to misbehave outside home, courting trouble for himself. (g) (Idiom). Í d’abíá t’ẹ́ ubì ṅ : (Usually directed at a second person singular). (Lit.) It (i.e. an insult) does not turn to a dog and start following you about). (DM.) A well-intended (though demeaning) action does not, in any way, affect your integrity."
        ],
        [
         "44",
         "ábíbiẹ",
         "wall-gecko ; a small, harmless, nocturnal reptile with a soft skin, a short but large body and feeble limbs. (a) cn. phr. (Met.) ábíbiẹ onẹ̀ : a quiet, reclusive person."
        ],
        [
         "45",
         "Àbíchiyì",
         "name given to a female ‘àbíkwú’ child. Meaning : wasted births). (See àbíkwú)"
        ],
        [
         "46",
         "ábíébi",
         "beggar ; one who takes alms. (See èbi). (a) phr. vi. bìèbi : to b"
        ],
        [
         "47",
         "ábíéjú",
         "provocation ; vexation ; irritation ; annoyance. (a) phr. vi. k’abíéjú : to speak angrily."
        ],
        [
         "48",
         "ábifá",
         "diviner ; fortune-teller ; seer. (Also : ùbifá). (See bọ ; ífá ; ùbifá). àbigbọ́ ( ̩à ̩bi ‘gbɔ́) un. rumour ; hear-say ; gossip. (a) phr. vi. bi-gbọ́ : to obtain information from a secondary source. (See àgbọ́rọ)."
        ],
        [
         "49",
         "àbíjíì",
         "See òkwúta ; òkwúta-àbíjíì."
        ]
       ],
       "shape": {
        "columns": 2,
        "rows": 3391
       }
      },
      "text/html": [
       "<div>\n",
       "<style scoped>\n",
       "    .dataframe tbody tr th:only-of-type {\n",
       "        vertical-align: middle;\n",
       "    }\n",
       "\n",
       "    .dataframe tbody tr th {\n",
       "        vertical-align: top;\n",
       "    }\n",
       "\n",
       "    .dataframe thead th {\n",
       "        text-align: right;\n",
       "    }\n",
       "</style>\n",
       "<table border=\"1\" class=\"dataframe\">\n",
       "  <thead>\n",
       "    <tr style=\"text-align: right;\">\n",
       "      <th></th>\n",
       "      <th>word</th>\n",
       "      <th>meaning</th>\n",
       "    </tr>\n",
       "  </thead>\n",
       "  <tbody>\n",
       "    <tr>\n",
       "      <th>0</th>\n",
       "      <td></td>\n",
       "      <td></td>\n",
       "    </tr>\n",
       "    <tr>\n",
       "      <th>1</th>\n",
       "      <td>à</td>\n",
       "      <td>we. (</td>\n",
       "    </tr>\n",
       "    <tr>\n",
       "      <th>2</th>\n",
       "      <td>á</td>\n",
       "      <td>a noun-forming prefix attached to a phrasal ve...</td>\n",
       "    </tr>\n",
       "    <tr>\n",
       "      <th>3</th>\n",
       "      <td>a</td>\n",
       "      <td>we ; us. (Indicating advice, urgency or appeal).</td>\n",
       "    </tr>\n",
       "    <tr>\n",
       "      <th>4</th>\n",
       "      <td>aa</td>\n",
       "      <td>Short form for ‘awa’ Or : ‘agba’ : (Compliment...</td>\n",
       "    </tr>\n",
       "    <tr>\n",
       "      <th>...</th>\n",
       "      <td>...</td>\n",
       "      <td>...</td>\n",
       "    </tr>\n",
       "    <tr>\n",
       "      <th>3386</th>\n",
       "      <td>yoolo</td>\n",
       "      <td>1. clean ; neatly. (Qualifies the verb, gwẹ̀ :...</td>\n",
       "    </tr>\n",
       "    <tr>\n",
       "      <th>3387</th>\n",
       "      <td>yòòlò</td>\n",
       "      <td>1. to be deep and circular.</td>\n",
       "    </tr>\n",
       "    <tr>\n",
       "      <th>3388</th>\n",
       "      <td>yóóló</td>\n",
       "      <td>clearly ; indisputably ; undeniably. (Qualifie...</td>\n",
       "    </tr>\n",
       "    <tr>\n",
       "      <th>3389</th>\n",
       "      <td>yọ</td>\n",
       "      <td>1. to save ; to salvage ; to rescue ; to free.</td>\n",
       "    </tr>\n",
       "    <tr>\n",
       "      <th>3390</th>\n",
       "      <td>detach</td>\n",
       "      <td></td>\n",
       "    </tr>\n",
       "  </tbody>\n",
       "</table>\n",
       "<p>3391 rows × 2 columns</p>\n",
       "</div>"
      ],
      "text/plain": [
       "        word                                            meaning\n",
       "0                                                              \n",
       "1          à                                              we. (\n",
       "2          á  a noun-forming prefix attached to a phrasal ve...\n",
       "3          a   we ; us. (Indicating advice, urgency or appeal).\n",
       "4         aa  Short form for ‘awa’ Or : ‘agba’ : (Compliment...\n",
       "...      ...                                                ...\n",
       "3386   yoolo  1. clean ; neatly. (Qualifies the verb, gwẹ̀ :...\n",
       "3387   yòòlò                        1. to be deep and circular.\n",
       "3388   yóóló  clearly ; indisputably ; undeniably. (Qualifie...\n",
       "3389      yọ     1. to save ; to salvage ; to rescue ; to free.\n",
       "3390  detach                                                   \n",
       "\n",
       "[3391 rows x 2 columns]"
      ]
     },
     "execution_count": 4,
     "metadata": {},
     "output_type": "execute_result"
    }
   ],
   "source": [
    "df"
   ]
  }
 ],
 "metadata": {
  "kernelspec": {
   "display_name": ".venv",
   "language": "python",
   "name": "python3"
  },
  "language_info": {
   "codemirror_mode": {
    "name": "ipython",
    "version": 3
   },
   "file_extension": ".py",
   "mimetype": "text/x-python",
   "name": "python",
   "nbconvert_exporter": "python",
   "pygments_lexer": "ipython3",
   "version": "3.12.6"
  }
 },
 "nbformat": 4,
 "nbformat_minor": 5
}
